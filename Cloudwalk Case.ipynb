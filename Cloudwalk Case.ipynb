{
 "cells": [
  {
   "cell_type": "markdown",
   "id": "a1590dd3",
   "metadata": {},
   "source": [
    "# Dark Souls 3: Knowledge Graph Construction\n",
    "\n",
    "This notebook presents a step-by-step process for constructing a knowledge graph from in-game textual data extracted from *Dark Souls III*.\n",
    "\n",
    "Dark Souls is known for its indirect, cryptic narrative style. Rather than traditional storytelling, the game's lore is conveyed through item descriptions, character dialogue, and environmental clues. By transforming these scattered pieces into a structured graph, we can reveal hidden connections and support complex reasoning about the game world.\n",
    "\n",
    "The dataset used here was extracted from the game files and made available by the [DarkSouls3.TextViewer project](https://github.com/mrexodia/DarkSouls3.TextViewer), which aggregates in-game texts such as item descriptions and NPC dialogue.\n",
    "\n",
    "This notebook includes:\n",
    "- Data extraction and preparation from the JSON dump\n",
    "- Entity and relationship extraction using language models\n",
    "- Knowledge graph construction using the extracted triples\n",
    "- Graph exploration and insight generation\n",
    "- Graph-based question answering via queries\n"
   ]
  },
  {
   "cell_type": "markdown",
   "id": "613f1363",
   "metadata": {},
   "source": [
    "## 📚 Table of Contents\n",
    "\n",
    "### 1. Data Preparation  \n",
    "- 1.1 Setup and Imports  \n",
    "- 1.2 Loading the Original JSON Dataset  \n",
    "- 1.3 Selecting Lore-Rich Categories  \n",
    "- 1.4 Extracting and Structuring Text Entries  \n",
    "- 1.5 Saving the Cleaned Dataset  \n",
    "- 1.6 Inspecting the Cleaned Dataset  \n",
    "- 1.7 Token Estimation and Sampling Strategy  \n",
    "- 1.8 Sampling Entries for Triple Extraction  \n",
    "\n",
    "### 2. Triple Extraction and Graph Construction  \n",
    "- 2.1 Extracting Triples Using GPT-4o  \n",
    "- 2.2 Inspecting Extracted Triples  \n",
    "- 2.3 Parsing and Cleaning Extracted Triples  \n",
    "- 2.4 Building the Knowledge Graph in NetworkX  \n",
    "- 2.5 Exporting the Graph to CSV  \n",
    "- 2.6 Loading the Graph into Neo4j AuraDB with Python  \n",
    "\n",
    "### 3. Deployment and Exploration  \n",
    "- 3.1 Building an Interactive Graph App with Streamlit  \n",
    "- 3.2 Exploratory Analysis of the Graph  \n",
    "- 3.3 Question-Answering over the Graph  \n",
    "- 3.4 Natural Language QA Interface  \n"
   ]
  },
  {
   "cell_type": "markdown",
   "id": "1b8b0ef2",
   "metadata": {},
   "source": [
    "## 1. Data Preparation"
   ]
  },
  {
   "cell_type": "markdown",
   "id": "6c550e55",
   "metadata": {},
   "source": [
    "### 1.1 Setup and Imports"
   ]
  },
  {
   "cell_type": "code",
   "execution_count": 3,
   "id": "d807ff51",
   "metadata": {},
   "outputs": [],
   "source": [
    "import json\n",
    "from transformers import GPT2TokenizerFast\n",
    "import random\n",
    "import time\n",
    "import openai\n",
    "from tqdm import tqdm\n",
    "import ast\n",
    "import re\n",
    "import pandas as pd\n",
    "import os\n",
    "import networkx as nx\n",
    "from neo4j import GraphDatabase\n",
    "from dotenv import load_dotenv\n",
    "import matplotlib.pyplot as plt\n",
    "\n",
    "load_dotenv()\n",
    "\n",
    "uri = os.getenv(\"NEO4J_URI\")\n",
    "username = os.getenv(\"NEO4J_USERNAME\")\n",
    "password = os.getenv(\"NEO4J_PASSWORD\")"
   ]
  },
  {
   "cell_type": "markdown",
   "id": "5c9fa596",
   "metadata": {},
   "source": [
    "### 1.2 Loading the Original JSON Dataset\n",
    "\n",
    "The full dataset is provided as a JSON file (`ds3.json`) containing raw textual content extracted directly from the game files of *Dark Souls III*, including item descriptions, spell texts, equipment lore, and NPC dialogues.\n",
    "\n",
    "To focus the analysis, I filter the dataset to retain only the entries related to **accessories**, **magic**, **weapons**, and **conversations** — categories that typically contain the richest lore content and entity interactions. This results in a more concise and meaningful subset for relationship extraction.\n",
    "\n",
    "The filtered texts are saved as `ds3_clean_texts.json`, which serves as the foundation for the knowledge extraction and graph construction steps that follow."
   ]
  },
  {
   "cell_type": "code",
   "execution_count": 16,
   "id": "33ebfee5",
   "metadata": {},
   "outputs": [],
   "source": [
    "with open(\"ds3.json\", \"r\", encoding=\"utf-8\") as f:\n",
    "    data = json.load(f)\n",
    "\n",
    "eng_data = data[\"languages\"][\"engUS\"]"
   ]
  },
  {
   "cell_type": "markdown",
   "id": "bbee0c3f",
   "metadata": {},
   "source": [
    "### 1.3 Selecting Lore-Rich Categories\n",
    "\n",
    "To ensure the graph captures meaningful narrative relationships, I restrict the scope to the following categories:\n",
    "\n",
    "- **accessory**\n",
    "- **magic**\n",
    "- **weapon**\n",
    "- **conversations**\n",
    "\n",
    "These groups are known to contain dense lore elements and references to entities and events within the Dark Souls universe.\n"
   ]
  },
  {
   "cell_type": "code",
   "execution_count": 17,
   "id": "f48d0c50",
   "metadata": {},
   "outputs": [],
   "source": [
    "categories_to_use = [\"accessory\", \"magic\", \"weapon\", \"conversations\"]"
   ]
  },
  {
   "cell_type": "markdown",
   "id": "5752618e",
   "metadata": {},
   "source": [
    "### 1.4 Extracting and Structuring Text Entries\n",
    "\n",
    "For each entry in the selected categories, I extract the `name`, `description`, and `knowledge` fields when available. These components contain the textual content that later serves as input for relationship extraction."
   ]
  },
  {
   "cell_type": "code",
   "execution_count": 18,
   "id": "71a6b697",
   "metadata": {},
   "outputs": [],
   "source": [
    "clean_data = []\n",
    "\n",
    "for category in categories_to_use:\n",
    "    for entry in eng_data[category].values():\n",
    "        name = entry.get(\"name\", \"\").strip()\n",
    "        description = entry.get(\"description\", \"\").strip()\n",
    "        knowledge = entry.get(\"knowledge\", \"\").strip()\n",
    "        if name or description or knowledge:\n",
    "            clean_data.append({\n",
    "                \"category\": category,\n",
    "                \"name\": name,\n",
    "                \"description\": description,\n",
    "                \"knowledge\": knowledge\n",
    "            })"
   ]
  },
  {
   "cell_type": "markdown",
   "id": "76556a0a",
   "metadata": {},
   "source": [
    "### 1.5 Saving the Cleaned Dataset\n",
    "\n",
    "To streamline development and avoid reprocessing the full JSON file each time, I save the filtered and structured entries as `ds3_clean_texts.json`.\n"
   ]
  },
  {
   "cell_type": "code",
   "execution_count": 19,
   "id": "a1803919",
   "metadata": {},
   "outputs": [
    {
     "name": "stdout",
     "output_type": "stream",
     "text": [
      "✅ Extracted and saved: 3473 entries in ds3_clean_texts.json\n"
     ]
    }
   ],
   "source": [
    "with open(\"ds3_clean_texts.json\", \"w\", encoding=\"utf-8\") as f:\n",
    "    json.dump(clean_data, f, ensure_ascii=False, indent=2)\n",
    "\n",
    "print(f\"✅ Extracted and saved: {len(clean_data)} entries in ds3_clean_texts.json\")\n"
   ]
  },
  {
   "cell_type": "markdown",
   "id": "645250e6",
   "metadata": {},
   "source": [
    "### 1.6 Inspecting the Cleaned Dataset\n",
    "\n",
    "I load the cleaned dataset and display a few samples to verify encoding, formatting, and overall relevance before proceeding to language model extraction.\n"
   ]
  },
  {
   "cell_type": "code",
   "execution_count": 20,
   "id": "8baf5e11",
   "metadata": {},
   "outputs": [
    {
     "name": "stdout",
     "output_type": "stream",
     "text": [
      "Total entries: 3473\n"
     ]
    },
    {
     "data": {
      "text/plain": [
       "[{'category': 'accessory',\n",
       "  'name': \"Havel's Ring\",\n",
       "  'description': 'Boosts maximum equipment load',\n",
       "  'knowledge': \"This ring was named after Havel the Rock,\\nLord Gwyn's old battlefield compatriot.\\n\\nHavel's men wore the ring to express faith in\\ntheir leader and to carry a heavier load.\"},\n",
       " {'category': 'accessory',\n",
       "  'name': 'Red Tearstone Ring',\n",
       "  'description': 'Boosts ATK while HP is low',\n",
       "  'knowledge': 'The rare gem called tearstone has the\\nuncanny ability to sense imminent death.\\n\\nThis red tearstone from Carim boosts the\\nattack of its wearer when in danger.'},\n",
       " {'category': 'accessory',\n",
       "  'name': 'Darkmoon Blade Covenant Ring',\n",
       "  'description': \"Answer Dark Sun Gwyndolin's summoning\",\n",
       "  'knowledge': \"Ring granted to those bound by the\\nDarkmoon Blade covenant.\\nAnswer Dark Sun Gwyndolin's summoning.\\n\\nGwyndolin, all too aware of his repulsive,\\nfrail appearance, created the illusion of \\na sister Gwynevere, who helps him guard\\nover Anor Londo. An unmasking of these\\ndeities would be tantamount to blasphemy.\"}]"
      ]
     },
     "execution_count": 20,
     "metadata": {},
     "output_type": "execute_result"
    }
   ],
   "source": [
    "with open(\"ds3_clean_texts.json\", \"r\", encoding=\"utf-8\") as f:\n",
    "    clean_data = json.load(f)\n",
    "\n",
    "print(f\"Total entries: {len(clean_data)}\")\n",
    "clean_data[:3]  # inspect first few items"
   ]
  },
  {
   "cell_type": "markdown",
   "id": "ec3d3231",
   "metadata": {},
   "source": [
    "### 1.7 Token Estimation and Sampling Strategy\n",
    "\n",
    "Before running large-scale extraction with GPT-4o, I estimate the token usage to control costs and processing time. The full dataset contains approximately 268,000 tokens. Based on GPT-4o pricing — $0.005 per 1,000 input tokens and $0.015 per 1,000 output tokens — the total cost would be around $2.\n",
    "\n",
    "To strike a balance between coverage, cost, and iteration speed, I select a representative sample of 100 entries for initial experimentation. This approach keeps the total cost under $1 while preserving the diversity of item types in the dataset.\n"
   ]
  },
  {
   "cell_type": "code",
   "execution_count": 21,
   "id": "b74da807",
   "metadata": {},
   "outputs": [
    {
     "name": "stdout",
     "output_type": "stream",
     "text": [
      "Estimated total tokens (input only): 268,105\n"
     ]
    }
   ],
   "source": [
    "# Load GPT2 tokenizer\n",
    "tokenizer = GPT2TokenizerFast.from_pretrained(\"gpt2\")\n",
    "\n",
    "def count_tokens(texts):\n",
    "    total_tokens = 0\n",
    "    for entry in clean_data:\n",
    "        combined = f\"{entry['name']}\\n{entry['description']}\\n{entry['knowledge']}\"\n",
    "        tokens = len(tokenizer.encode(combined))\n",
    "        total_tokens += tokens\n",
    "    return total_tokens\n",
    "\n",
    "total_tokens = count_tokens(clean_data)\n",
    "print(f\"Estimated total tokens (input only): {total_tokens:,}\")\n"
   ]
  },
  {
   "cell_type": "markdown",
   "id": "0948e6af",
   "metadata": {},
   "source": [
    "### 1.8 Sampling Entries for Triple Extraction\n",
    "\n",
    "I randomly sample 100 entries from the cleaned dataset, ensuring a variety of item types (e.g., weapons, armor, spells, NPC dialogue) are included.\n",
    "\n",
    "These entries are saved as `sampled_lore_entries.json` and serve as input for the GPT-4o-based triple extraction in the next step."
   ]
  },
  {
   "cell_type": "code",
   "execution_count": 22,
   "id": "a1ccff8f",
   "metadata": {},
   "outputs": [],
   "source": [
    "# Set seed for reproducibility\n",
    "random.seed(42)\n",
    "\n",
    "# Sample 100 entries from the cleaned dataset\n",
    "sampled_data = random.sample(clean_data, 100)\n",
    "\n",
    "# Save to file for processing with the OpenAI API\n",
    "with open(\"sampled_lore_entries.json\", \"w\", encoding=\"utf-8\") as f:\n",
    "    json.dump(sampled_data, f, indent=2, ensure_ascii=False)"
   ]
  },
  {
   "cell_type": "markdown",
   "id": "86691f52",
   "metadata": {},
   "source": [
    "## 2 Triple Extraction and Graph Construction"
   ]
  },
  {
   "cell_type": "markdown",
   "id": "839f5dcc",
   "metadata": {},
   "source": [
    "### 2.1 Extracting Triples Using GPT-4o\n",
    "\n",
    "To transform the item descriptions into structured knowledge, I use **GPT-4o** via the OpenAI API.\n",
    "\n",
    "For each entry — containing a `name`, `description`, and optional `knowledge` field — a structured prompt is sent to the model, asking it to extract **1 to 3 subject–predicate–object triples** that represent meaningful relationships between entities.\n",
    "\n",
    "Each extracted triple follows the format:\n",
    "\n",
    "(\"Entity A\", \"relation\", \"Entity B\")\n",
    "\n",
    "This step automates the conversion of unstructured game lore into structured data, making it suitable for graph-based analysis and visualization.\n",
    "\n",
    "The extracted triples are saved to `extracted_triples.json` and will be used in the next step to build the knowledge graph.\n",
    "\n",
    "> ℹ️ **Note:** To re-run this step, you must provide a valid OpenAI API key. The notebook is configured to read the key from an environment variable (`OPENAI_API_KEY`) loaded via a `.env` file.\n",
    "\n",
    "However, this step has already been executed, and the output file `extracted_triples.json` is included in the repository. There’s no need to re-run the extraction unless you wish to modify the prompt or input data."
   ]
  },
  {
   "cell_type": "code",
   "execution_count": null,
   "id": "ea8a9ce7",
   "metadata": {},
   "outputs": [
    {
     "name": "stdout",
     "output_type": "stream",
     "text": [
      "Model 'gpt-4o' is available. Proceeding with extraction.\n",
      "Loaded 100 entries for triple extraction.\n"
     ]
    },
    {
     "name": "stderr",
     "output_type": "stream",
     "text": [
      "Extracting triples: 100%|██████████| 100/100 [04:12<00:00,  2.52s/it]"
     ]
    },
    {
     "name": "stdout",
     "output_type": "stream",
     "text": [
      "Extraction completed. Results saved to 'extracted_triples.json'.\n"
     ]
    },
    {
     "name": "stderr",
     "output_type": "stream",
     "text": [
      "\n"
     ]
    }
   ],
   "source": [
    "# 1. Initialize OpenAI client\n",
    "load_dotenv()\n",
    "client = openai.OpenAI(api_key=os.getenv(\"OPENAI_API_KEY\"))\n",
    "\n",
    "# 2. Choose the model\n",
    "MODEL = \"gpt-4o\"\n",
    "\n",
    "# 3. Verify that the model exists in the account\n",
    "available_models = [m.id for m in client.models.list().data]\n",
    "if MODEL not in available_models:\n",
    "    raise ValueError(f\"Model '{MODEL}' not available in your account. Available models are:\\n{available_models}\")\n",
    "\n",
    "print(f\"Model '{MODEL}' is available. Proceeding with extraction.\")\n",
    "\n",
    "# 4. Load sampled entries\n",
    "with open(\"sampled_lore_entries.json\", \"r\", encoding=\"utf-8\") as f:\n",
    "    entries = json.load(f)\n",
    "\n",
    "print(f\"Loaded {len(entries)} entries for triple extraction.\")\n",
    "\n",
    "# 5. Define the system prompt\n",
    "system_prompt = (\n",
    "    \"You are a helpful assistant that extracts meaningful relationships from fantasy game item descriptions.\"\n",
    ")\n",
    "\n",
    "# 6. Function to generate user prompts\n",
    "def make_user_prompt(entry):\n",
    "    content = f\"{entry['name']}\\n{entry['description']}\\n{entry['knowledge']}\".strip()\n",
    "    return (\n",
    "        f\"\"\"Given the following game lore text, extract 1 to 3 subject–predicate–object triples.\n",
    "Each triple should describe a meaningful relationship between entities mentioned in the text.\n",
    "\n",
    "Return your answer strictly as a Python list of triples like this:\n",
    "[\n",
    "  (\"Entity A\", \"relation\", \"Entity B\"),\n",
    "  ...\n",
    "]\n",
    "\n",
    "Text:\n",
    "\\\"\\\"\\\"\n",
    "{content}\n",
    "\\\"\\\"\\\"\n",
    "\"\"\"\n",
    "    )\n",
    "\n",
    "# 7. Initialize results list\n",
    "results = []\n",
    "\n",
    "# 8. Loop through entries and call OpenAI API\n",
    "for entry in tqdm(entries, desc=\"Extracting triples\"):\n",
    "    try:\n",
    "        user_prompt = make_user_prompt(entry)\n",
    "\n",
    "        response = client.chat.completions.create(\n",
    "            model=MODEL,\n",
    "            messages=[\n",
    "                {\"role\": \"system\", \"content\": system_prompt},\n",
    "                {\"role\": \"user\", \"content\": user_prompt}\n",
    "            ],\n",
    "            temperature=0.2\n",
    "        )\n",
    "\n",
    "        output = response.choices[0].message.content.strip()\n",
    "\n",
    "        results.append({\n",
    "            \"input\": entry,\n",
    "            \"triples\": output,\n",
    "            \"error\": None\n",
    "        })\n",
    "\n",
    "        time.sleep(1)  # Optional delay to avoid rate limits\n",
    "\n",
    "    except Exception as e:\n",
    "        print(f\"Error on entry '{entry.get('name', 'N/A')}': {e}\")\n",
    "        results.append({\n",
    "            \"input\": entry,\n",
    "            \"triples\": None,\n",
    "            \"error\": str(e)\n",
    "        })\n",
    "\n",
    "# 9. Save results to JSON\n",
    "with open(\"extracted_triples.json\", \"w\", encoding=\"utf-8\") as f:\n",
    "    json.dump(results, f, indent=2, ensure_ascii=False)\n",
    "\n",
    "print(\"Extraction completed. Results saved to 'extracted_triples.json'.\")\n"
   ]
  },
  {
   "cell_type": "markdown",
   "id": "fd8b97c8",
   "metadata": {},
   "source": [
    "### 2.2 Inspecting Extracted Triples\n",
    "\n",
    "Before proceeding to graph construction, I inspect a random sample of the extracted triples to verify their **quality and consistency**.\n",
    "\n",
    "This step ensures that GPT-4o correctly followed the prompt structure, extracted **meaningful subject–predicate–object relationships**, and returned **syntactically valid outputs**.\n",
    "\n",
    "By reviewing a few examples, I can check for common issues such as:\n",
    "\n",
    "- Formatting errors  \n",
    "- Hallucinated or irrelevant entities  \n",
    "- Incomplete or malformed triples  \n",
    "\n",
    "This verification step helps determine whether any cleaning or adjustments are needed before building the graph.\n"
   ]
  },
  {
   "cell_type": "code",
   "execution_count": 23,
   "id": "b9268d83",
   "metadata": {},
   "outputs": [
    {
     "name": "stdout",
     "output_type": "stream",
     "text": [
      "Sample 1\n",
      "--------------------------------------------------------------------------------\n",
      "Item Name: Blood Red and White Shield\n",
      "Description: \n",
      "Knowledge: Standard round wooden shield. It features a striking red and white design.\n",
      "\n",
      "Wooden shields are light, manageable, and offer relatively high magic absorption.\n",
      "\n",
      "Skill: Parry\n",
      "Repel an attack at the right time to follow up with a critical hit. Works while equipped in either hand.\n",
      "\n",
      "Extracted Triples:\n",
      "```python\n",
      "[\n",
      "  (\"Blood Red and White Shield\", \"features\", \"red and white design\"),\n",
      "  (\"Wooden shields\", \"offer\", \"high magic absorption\"),\n",
      "  (\"Skill: Parry\", \"allows\", \"repelling an attack to follow up with a critical hit\")\n",
      "]\n",
      "```\n",
      "\n",
      "No errors.\n",
      "================================================================================\n",
      "\n",
      "Sample 2\n",
      "--------------------------------------------------------------------------------\n",
      "Item Name: Fire Crest Shield\n",
      "Description: \n",
      "Knowledge: Shield of the Knights of Blue, engraved with a crest.\n",
      "\n",
      "One of the enchanted blue shields. The Crest\n",
      "Shield in particular greatly reduces magic damage.\n",
      "\n",
      "Skill: Parry\n",
      "Effective regardless of which hand\n",
      "the shield is equipped in. Repel an\n",
      "attack with graceful timing and\n",
      "follow up with a critical hit.\n",
      "\n",
      "Extracted Triples:\n",
      "```python\n",
      "[\n",
      "  (\"Fire Crest Shield\", \"engraved with\", \"crest\"),\n",
      "  (\"Crest Shield\", \"greatly reduces\", \"magic damage\"),\n",
      "  (\"Parry\", \"is skill of\", \"Fire Crest Shield\")\n",
      "]\n",
      "```\n",
      "\n",
      "No errors.\n",
      "================================================================================\n",
      "\n",
      "Sample 3\n",
      "--------------------------------------------------------------------------------\n",
      "Item Name: Poison Uchigatana\n",
      "Description: \n",
      "Knowledge: A unique katana characterized by the fine craftsmanship of an eastern land where it was forged.\n",
      "\n",
      "The finely-sharpened blade cuts flesh like butter and causes bleeding, but breaks easily as a result.\n",
      "\n",
      "Skill: Hold\n",
      "Assume a holding stance to rapidly execute a lunging slash with normal attack, or a deflecting parry with strong attack.\n",
      "\n",
      "Extracted Triples:\n",
      "```python\n",
      "[\n",
      "  (\"Poison Uchigatana\", \"characterized by\", \"fine craftsmanship of an eastern land\"),\n",
      "  (\"finely-sharpened blade\", \"causes\", \"bleeding\"),\n",
      "  (\"finely-sharpened blade\", \"breaks\", \"easily\")\n",
      "]\n",
      "```\n",
      "\n",
      "No errors.\n",
      "================================================================================\n",
      "\n",
      "Sample 4\n",
      "--------------------------------------------------------------------------------\n",
      "Item Name: Dark Bastard Sword\n",
      "Description: \n",
      "Knowledge: A widely-used heavy greatsword normally wielded with two hands.\n",
      "\n",
      "Broad horizontal sweeping attacks make this sword effective against multiple enemies, but unwieldy in narrow spaces.\n",
      "\n",
      "Skill: Stomp\n",
      "Use one's weight to lunge forward with a low stance and increased poise, and follow with strong attack for an upward slash.\n",
      "\n",
      "Extracted Triples:\n",
      "```python\n",
      "[\n",
      "  (\"Dark Bastard Sword\", \"is\", \"heavy greatsword\"),\n",
      "  (\"Dark Bastard Sword\", \"has skill\", \"Stomp\"),\n",
      "  (\"Stomp\", \"allows\", \"lunge forward with a low stance and increased poise\")\n",
      "]\n",
      "```\n",
      "\n",
      "No errors.\n",
      "================================================================================\n",
      "\n",
      "Sample 5\n",
      "--------------------------------------------------------------------------------\n",
      "Item Name: Lightning Eagle Kite Shield\n",
      "Description: \n",
      "Knowledge: Orthodox metal shield engraved with a crest depicting a silver eagle.\n",
      "\n",
      "Medium shields are the most average of shields, providing a practical balance of damage absorption, stability and weight.\n",
      "\n",
      "Skill: Weapon Skill\n",
      "Equipping this shield in the left hand allows one to perform the Skill of the right hand weapon.\n",
      "\n",
      "Extracted Triples:\n",
      "```python\n",
      "[\n",
      "  (\"Lightning Eagle Kite Shield\", \"engraved with\", \"crest depicting a silver eagle\"),\n",
      "  (\"Medium shields\", \"provide\", \"a practical balance of damage absorption, stability and weight\"),\n",
      "  (\"Equipping this shield in the left hand\", \"allows\", \"one to perform the Skill of the right hand weapon\")\n",
      "]\n",
      "```\n",
      "\n",
      "No errors.\n",
      "================================================================================\n",
      "\n"
     ]
    }
   ],
   "source": [
    "# Load the extracted triples\n",
    "with open(\"extracted_triples.json\", \"r\", encoding=\"utf-8\") as f:\n",
    "    extracted = json.load(f)\n",
    "\n",
    "# Sample 5 random entries\n",
    "sample = random.sample(extracted, 5)\n",
    "\n",
    "# Display the results\n",
    "for i, entry in enumerate(sample, 1):\n",
    "    print(f\"Sample {i}\")\n",
    "    print(\"-\" * 80)\n",
    "    print(f\"Item Name: {entry['input'].get('name', 'N/A')}\")\n",
    "    print(f\"Description: {entry['input'].get('description', '').strip()}\")\n",
    "    print(f\"Knowledge: {entry['input'].get('knowledge', '').strip()}\")\n",
    "    print(\"\\nExtracted Triples:\")\n",
    "    print(entry.get('triples', 'No triples extracted'))\n",
    "    print(\"\\nError:\" if entry.get('error') else \"\\nNo errors.\")\n",
    "    if entry.get('error'):\n",
    "        print(entry.get('error'))\n",
    "    print(\"=\" * 80)\n",
    "    print()\n"
   ]
  },
  {
   "cell_type": "markdown",
   "id": "aa3d9814",
   "metadata": {},
   "source": [
    "### 2.3 Parsing and Cleaning Extracted Triples\n",
    "\n",
    "Before constructing the knowledge graph, I parse the extracted triples and apply light cleaning to improve **entity consistency**.\n",
    "\n",
    "The cleaning process includes:\n",
    "\n",
    "- Removing generic prefixes like `\"Skill:\"` or `\"Skill\"` from entity names  \n",
    "- Simplifying overly verbose subjects and objects when possible  \n",
    "- Trimming whitespace and normalizing text formats  \n",
    "- Removing incomplete triples with missing subject or object\n",
    "\n",
    "These steps help reduce duplication and enhance the quality of nodes and edges in the final graph.\n"
   ]
  },
  {
   "cell_type": "code",
   "execution_count": 24,
   "id": "ab8920ea",
   "metadata": {},
   "outputs": [
    {
     "name": "stdout",
     "output_type": "stream",
     "text": [
      "Parsed and cleaned 297 triples.\n"
     ]
    }
   ],
   "source": [
    "# Clean the entity names\n",
    "def clean_entity(text):\n",
    "    if not isinstance(text, str):\n",
    "        return \"\"\n",
    "    text = text.strip()\n",
    "    if text.lower().startswith(\"skill:\"):\n",
    "        text = text[len(\"skill:\"):].strip()\n",
    "    elif text.lower().startswith(\"skill\"):\n",
    "        text = text[len(\"skill\"):].strip()\n",
    "    return text\n",
    "\n",
    "# Clean individual triples\n",
    "def clean_triple(triple):\n",
    "    subject, predicate, obj = triple\n",
    "    subject = clean_entity(subject)\n",
    "    obj = clean_entity(obj)\n",
    "\n",
    "    # Skip triples with missing subject or object\n",
    "    if not subject or not obj:\n",
    "        return None\n",
    "\n",
    "    return (subject, predicate.strip(), obj)\n",
    "\n",
    "# Remove markdown code block markers if present\n",
    "def clean_text_block(text):\n",
    "    if text is None:\n",
    "        return \"\"\n",
    "    text = text.strip()\n",
    "\n",
    "    if text.startswith(\"```\") and text.endswith(\"```\"):\n",
    "        lines = text.splitlines()\n",
    "        # Remove first and last lines (```python or ``` and ```)\n",
    "        text = \"\\n\".join(lines[1:-1]).strip()\n",
    "\n",
    "    return text\n",
    "\n",
    "# Parse the triples using ast and regex as fallback\n",
    "def parse_triples(text):\n",
    "    text = clean_text_block(text)\n",
    "\n",
    "    try:\n",
    "        triples = ast.literal_eval(text)\n",
    "        if isinstance(triples, list):\n",
    "            return [t for t in [clean_triple(t) for t in triples if isinstance(t, tuple) and len(t) == 3] if t]\n",
    "    except Exception:\n",
    "        pass\n",
    "\n",
    "    # Fallback — regex parsing\n",
    "    pattern = r'\\(\"(.+?)\",\\s*\"(.*?)\",\\s*\"(.*?)\"\\)'\n",
    "    matches = re.findall(pattern, text)\n",
    "\n",
    "    if matches:\n",
    "        return [t for t in [clean_triple(t) for t in matches] if t]\n",
    "\n",
    "    return []\n",
    "\n",
    "# Apply parsing to all entries\n",
    "parsed_triples = []\n",
    "\n",
    "for entry in extracted:\n",
    "    raw_output = entry.get('triples')\n",
    "    if raw_output and not entry.get('error'):\n",
    "        triples = parse_triples(raw_output)\n",
    "        if triples:\n",
    "            parsed_triples.extend(triples)\n",
    "        else:\n",
    "            print(f\"Failed to parse entry: {entry['input'].get('name', 'N/A')}\")\n",
    "\n",
    "print(f\"Parsed and cleaned {len(parsed_triples)} triples.\")\n"
   ]
  },
  {
   "cell_type": "markdown",
   "id": "2cf913a3",
   "metadata": {},
   "source": [
    "### 2.4 Building the Knowledge Graph in NetworkX\n",
    "\n",
    "I start constructing the knowledge graph using **NetworkX**, a Python library for graph analysis.\n",
    "\n",
    "In this step:\n",
    "\n",
    "- Each unique entity becomes a **node**  \n",
    "- Each subject–predicate–object triple forms a **directed edge** between nodes, with the predicate as the **edge label**\n",
    "\n",
    "This allows for inspection of the graph structure, basic property computation (such as the number of nodes and edges), and preliminary exploration before deploying to a graph database.\n"
   ]
  },
  {
   "cell_type": "code",
   "execution_count": 25,
   "id": "fd4ca1f0",
   "metadata": {},
   "outputs": [
    {
     "name": "stdout",
     "output_type": "stream",
     "text": [
      "Number of nodes: 403\n",
      "Number of edges: 270\n",
      "Sample edges with relationships:\n",
      "Deep Crimson Parma -[is]-> standard round wooden shield\n",
      "red paint -[symbolizes]-> blood of warriors\n",
      "Wooden shields -[offer]-> relatively high magic absorption\n",
      "Wooden shields -[offer]-> high magic absorption\n",
      "Dagger -[used by]-> citizens of the Undead Commune\n",
      "inner blade -[lined with]-> fish hook-like barbs\n",
      "weapon -[had]-> ritualistic use\n",
      "Bellowing Dragoncrest Ring -[greatly boosts]-> sorceries\n",
      "Bellowing Dragoncrest Ring -[given to]-> those who are deemed fit to undertake the journey of discovery in Vinheim\n",
      "Bellowing dragon -[symbolizes]-> the true nature of the consummate sorcerer\n"
     ]
    }
   ],
   "source": [
    "# 1. Initialize a directed graph\n",
    "G = nx.DiGraph()\n",
    "\n",
    "# 2. Add edges from triples\n",
    "for subj, rel, obj in parsed_triples:\n",
    "    G.add_node(subj)\n",
    "    G.add_node(obj)\n",
    "    G.add_edge(subj, obj, label=rel)\n",
    "\n",
    "# 3. Basic graph info\n",
    "print(f\"Number of nodes: {G.number_of_nodes()}\")\n",
    "print(f\"Number of edges: {G.number_of_edges()}\")\n",
    "\n",
    "# 4. Inspect some edges\n",
    "print(\"Sample edges with relationships:\")\n",
    "for u, v, data in list(G.edges(data=True))[:10]:\n",
    "    print(f\"{u} -[{data['label']}]-> {v}\")\n"
   ]
  },
  {
   "cell_type": "markdown",
   "id": "f1a0c8b6",
   "metadata": {},
   "source": [
    "### 2.5 Exporting the Graph to CSV\n",
    "\n",
    "To document the graph structure and maintain a clear, reproducible dataset, I export the graph to two CSV files:\n",
    "\n",
    "- A **nodes** file (`nodes.csv`), where each unique entity becomes a node  \n",
    "- An **edges** file (`edges.csv`), where each subject–predicate–object triple becomes a directed relationship\n",
    "\n",
    "These CSV files serve both as a backup of the structured graph and as an intermediate step for transparency. While the primary pipeline uploads the graph directly into Neo4j using Python (see the next section), having the CSVs available facilitates inspection, reproducibility, and potential reuse in other graph environments.\n"
   ]
  },
  {
   "cell_type": "code",
   "execution_count": 26,
   "id": "5ea4138d",
   "metadata": {},
   "outputs": [
    {
     "name": "stdout",
     "output_type": "stream",
     "text": [
      "Exported 403 nodes to 'nodes.csv'.\n",
      "Exported 270 edges to 'edges.csv'.\n"
     ]
    }
   ],
   "source": [
    "# 1. Export nodes\n",
    "nodes = pd.DataFrame({\n",
    "    \"id\": list(G.nodes),\n",
    "    \"label\": \"Entity\"  # Assigning a generic label to all nodes\n",
    "})\n",
    "\n",
    "nodes.to_csv(\"nodes.csv\", index=False, encoding=\"utf-8\")\n",
    "print(f\"Exported {len(nodes)} nodes to 'nodes.csv'.\")\n",
    "\n",
    "# 2. Export edges\n",
    "edges = pd.DataFrame([\n",
    "    {\n",
    "        \"source\": u,\n",
    "        \"target\": v,\n",
    "        \"type\": data[\"label\"]  # The relationship label\n",
    "    }\n",
    "    for u, v, data in G.edges(data=True)\n",
    "])\n",
    "\n",
    "edges.to_csv(\"edges.csv\", index=False, encoding=\"utf-8\")\n",
    "print(f\"Exported {len(edges)} edges to 'edges.csv'.\")\n"
   ]
  },
  {
   "cell_type": "markdown",
   "id": "09c5e2c9",
   "metadata": {},
   "source": [
    "### 2.6 Loading the Graph into Neo4j AuraDB with Python\n",
    "\n",
    "In this step, I connect to Neo4j AuraDB and upload the graph directly from the `nodes.csv` and `edges.csv` files.\n",
    "\n",
    "The process includes:\n",
    "\n",
    "- Establishing a secure connection to the Neo4j instance using the official Neo4j Python driver.\n",
    "- Creating nodes from the `nodes.csv` file, with label `Entity` and property `id`.\n",
    "- Creating relationships from the `edges.csv` file, using the `source` and `target` columns to define the start and end nodes, and the `type` column to define the relationship type.\n",
    "\n",
    "This automated approach directly populates the graph database with the structured knowledge extracted from the Dark Souls item descriptions.\n"
   ]
  },
  {
   "cell_type": "code",
   "execution_count": null,
   "id": "efc661c2",
   "metadata": {},
   "outputs": [
    {
     "name": "stdout",
     "output_type": "stream",
     "text": [
      "🔢 Loaded 403 nodes and 270 edges.\n",
      "🧹 Database cleared.\n",
      "✅ Nodes created.\n",
      "✅ Relationships created.\n",
      "🚀 Graph successfully rebuilt in Neo4j with real relationship types.\n"
     ]
    }
   ],
   "source": [
    "# ✅ Load environment variables\n",
    "load_dotenv()\n",
    "uri = os.getenv(\"NEO4J_URI\")\n",
    "username = os.getenv(\"NEO4J_USERNAME\")\n",
    "password = os.getenv(\"NEO4J_PASSWORD\")\n",
    "\n",
    "# ✅ Load CSVs\n",
    "nodes = pd.read_csv(\"nodes.csv\", dtype=str).fillna(\"\")\n",
    "edges = pd.read_csv(\"edges.csv\", dtype=str).fillna(\"\")\n",
    "\n",
    "print(f\"🔢 Loaded {len(nodes)} nodes and {len(edges)} edges.\")\n",
    "\n",
    "# ✅ Connect to Neo4j\n",
    "driver = GraphDatabase.driver(uri, auth=(username, password))\n",
    "\n",
    "# ✅ Step 1: Clean the database\n",
    "def clear_database(tx):\n",
    "    tx.run(\"MATCH (n) DETACH DELETE n\")\n",
    "    print(\"🧹 Database cleared.\")\n",
    "\n",
    "# ✅ Step 2: Create nodes\n",
    "def create_nodes(tx, nodes_df):\n",
    "    query = \"\"\"\n",
    "    UNWIND $rows AS row\n",
    "    MERGE (n:Entity {id: row.id})\n",
    "    \"\"\"\n",
    "    data = [{\"id\": row[\"id\"]} for _, row in nodes_df.iterrows()]\n",
    "    tx.run(query, rows=data)\n",
    "\n",
    "# ✅ Step 3: Create real typed relationships (NOT RELATION {type: ...})\n",
    "def create_relationships(tx, edges_df):\n",
    "    for _, row in edges_df.iterrows():\n",
    "        rel_type = row[\"type\"].strip().lower().replace(\" \", \"_\")  # real relationship label\n",
    "        source = row[\"source\"]\n",
    "        target = row[\"target\"]\n",
    "\n",
    "        query = f\"\"\"\n",
    "        MATCH (a:Entity {{id: $source}})\n",
    "        MATCH (b:Entity {{id: $target}})\n",
    "        MERGE (a)-[r:`{rel_type}`]->(b)\n",
    "        \"\"\"\n",
    "        tx.run(query, source=source, target=target)\n",
    "\n",
    "# ✅ Step 4: Run all in a session\n",
    "with driver.session() as session:\n",
    "    session.execute_write(clear_database)\n",
    "    session.execute_write(create_nodes, nodes)\n",
    "    print(\"✅ Nodes created.\")\n",
    "    session.execute_write(create_relationships, edges)\n",
    "    print(\"✅ Relationships created.\")\n",
    "\n",
    "driver.close()\n",
    "print(\"🚀 Graph successfully rebuilt in Neo4j with real relationship types.\")\n"
   ]
  },
  {
   "cell_type": "markdown",
   "id": "1bb2e534",
   "metadata": {},
   "source": [
    "## 3 Exploration and Application"
   ]
  },
  {
   "cell_type": "markdown",
   "id": "5784cffe",
   "metadata": {},
   "source": [
    "### 3.1 Building an Interactive Graph App with Streamlit\n",
    "\n",
    "To explore the knowledge graph interactively, I created a web application using Streamlit.\n",
    "\n",
    "The app connects directly to the Neo4j AuraDB instance, retrieves nodes and relationships using Cypher queries, and renders an interactive graph using PyVis. Users can visually navigate the graph, inspect connections, and explore the Dark Souls lore.\n",
    "\n",
    "This solution improves user experience by offering an intuitive and dynamic interface for graph exploration and discovery.\n",
    "\n",
    "🔗 **Try the app here:** [Dark Souls Knowledge Graph Explorer](https://dark-souls.streamlit.app/)\n"
   ]
  },
  {
   "cell_type": "markdown",
   "id": "190f495b",
   "metadata": {},
   "source": [
    "### 3.2 Exploratory Analysis of the Graph\n",
    "\n",
    "In this section, I analyze the structure of the knowledge graph using the nodes.csv and edges.csv files. This step reveals key insights into the entities and relationships extracted from Dark Souls lore and helps inform the question-answering stage."
   ]
  },
  {
   "cell_type": "markdown",
   "id": "d788af48",
   "metadata": {},
   "source": [
    "#### 3.2.1 Overview of Graph Structure\n",
    "\n",
    "I begin by loading the graph data and checking basic structural information such as number of nodes, number of edges, and most common relationship types.\n"
   ]
  },
  {
   "cell_type": "code",
   "execution_count": 28,
   "id": "33971f39",
   "metadata": {},
   "outputs": [
    {
     "name": "stdout",
     "output_type": "stream",
     "text": [
      "Number of nodes: 403\n",
      "Number of edges: 270\n"
     ]
    },
    {
     "data": {
      "text/html": [
       "<div>\n",
       "<style scoped>\n",
       "    .dataframe tbody tr th:only-of-type {\n",
       "        vertical-align: middle;\n",
       "    }\n",
       "\n",
       "    .dataframe tbody tr th {\n",
       "        vertical-align: top;\n",
       "    }\n",
       "\n",
       "    .dataframe thead th {\n",
       "        text-align: right;\n",
       "    }\n",
       "</style>\n",
       "<table border=\"1\" class=\"dataframe\">\n",
       "  <thead>\n",
       "    <tr style=\"text-align: right;\">\n",
       "      <th></th>\n",
       "      <th>relation</th>\n",
       "      <th>count</th>\n",
       "    </tr>\n",
       "  </thead>\n",
       "  <tbody>\n",
       "    <tr>\n",
       "      <th>0</th>\n",
       "      <td>is</td>\n",
       "      <td>18</td>\n",
       "    </tr>\n",
       "    <tr>\n",
       "      <th>1</th>\n",
       "      <td>allows</td>\n",
       "      <td>9</td>\n",
       "    </tr>\n",
       "    <tr>\n",
       "      <th>2</th>\n",
       "      <td>wield</td>\n",
       "      <td>7</td>\n",
       "    </tr>\n",
       "    <tr>\n",
       "      <th>3</th>\n",
       "      <td>has</td>\n",
       "      <td>6</td>\n",
       "    </tr>\n",
       "    <tr>\n",
       "      <th>4</th>\n",
       "      <td>symbolizes</td>\n",
       "      <td>5</td>\n",
       "    </tr>\n",
       "    <tr>\n",
       "      <th>5</th>\n",
       "      <td>was</td>\n",
       "      <td>5</td>\n",
       "    </tr>\n",
       "    <tr>\n",
       "      <th>6</th>\n",
       "      <td>engraved with</td>\n",
       "      <td>5</td>\n",
       "    </tr>\n",
       "    <tr>\n",
       "      <th>7</th>\n",
       "      <td>used by</td>\n",
       "      <td>4</td>\n",
       "    </tr>\n",
       "    <tr>\n",
       "      <th>8</th>\n",
       "      <td>use</td>\n",
       "      <td>4</td>\n",
       "    </tr>\n",
       "    <tr>\n",
       "      <th>9</th>\n",
       "      <td>offer</td>\n",
       "      <td>4</td>\n",
       "    </tr>\n",
       "  </tbody>\n",
       "</table>\n",
       "</div>"
      ],
      "text/plain": [
       "        relation  count\n",
       "0             is     18\n",
       "1         allows      9\n",
       "2          wield      7\n",
       "3            has      6\n",
       "4     symbolizes      5\n",
       "5            was      5\n",
       "6  engraved with      5\n",
       "7        used by      4\n",
       "8            use      4\n",
       "9          offer      4"
      ]
     },
     "execution_count": 28,
     "metadata": {},
     "output_type": "execute_result"
    }
   ],
   "source": [
    "# Load CSV files\n",
    "nodes = pd.read_csv(\"nodes.csv\")\n",
    "edges = pd.read_csv(\"edges.csv\")\n",
    "\n",
    "# Basic stats\n",
    "print(f\"Number of nodes: {len(nodes)}\")\n",
    "print(f\"Number of edges: {len(edges)}\")\n",
    "\n",
    "# Most common relationship types\n",
    "relation_counts = edges[\"type\"].value_counts().reset_index()\n",
    "relation_counts.columns = [\"relation\", \"count\"]\n",
    "relation_counts.head(10)\n"
   ]
  },
  {
   "cell_type": "markdown",
   "id": "e5c0feb1",
   "metadata": {},
   "source": [
    "#### 3.2.1.1 Interpretation: Graph Size and Relationship Types\n",
    "📊 Graph Overview and Relationship Distribution\n",
    "The graph contains 406 entities (nodes) and 273 relationships (edges) extracted from Dark Souls item descriptions. The most frequent relationship type is is (20 instances), which often reflects identity statements (e.g., \"X is a Y\"). Other common relationships include allows, wield, and has, which encode typical item functionalities or associations such as granting abilities, being wielded by someone, or possessing a certain attribute. Symbolic and descriptive relationships like symbolizes and engraved with appear less frequently but convey rich semantic meaning, potentially useful for higher-level lore interpretation and question-answering."
   ]
  },
  {
   "cell_type": "markdown",
   "id": "2f0a8167",
   "metadata": {},
   "source": [
    "#### 3.2.2 Network Statistics\n",
    "\n",
    "I use NetworkX to create a directed graph and analyze the degree distribution, helping us identify the most connected entities in the lore graph.\n"
   ]
  },
  {
   "cell_type": "code",
   "execution_count": 29,
   "id": "20840b94",
   "metadata": {},
   "outputs": [
    {
     "data": {
      "text/html": [
       "<div>\n",
       "<style scoped>\n",
       "    .dataframe tbody tr th:only-of-type {\n",
       "        vertical-align: middle;\n",
       "    }\n",
       "\n",
       "    .dataframe tbody tr th {\n",
       "        vertical-align: top;\n",
       "    }\n",
       "\n",
       "    .dataframe thead th {\n",
       "        text-align: right;\n",
       "    }\n",
       "</style>\n",
       "<table border=\"1\" class=\"dataframe\">\n",
       "  <thead>\n",
       "    <tr style=\"text-align: right;\">\n",
       "      <th></th>\n",
       "      <th>node</th>\n",
       "      <th>degree</th>\n",
       "    </tr>\n",
       "  </thead>\n",
       "  <tbody>\n",
       "    <tr>\n",
       "      <th>53</th>\n",
       "      <td>Parry</td>\n",
       "      <td>7</td>\n",
       "    </tr>\n",
       "    <tr>\n",
       "      <th>61</th>\n",
       "      <td>Black Knights</td>\n",
       "      <td>5</td>\n",
       "    </tr>\n",
       "    <tr>\n",
       "      <th>266</th>\n",
       "      <td>Old Wolf Curved Sword</td>\n",
       "      <td>4</td>\n",
       "    </tr>\n",
       "    <tr>\n",
       "      <th>167</th>\n",
       "      <td>Corvian Knights</td>\n",
       "      <td>4</td>\n",
       "    </tr>\n",
       "    <tr>\n",
       "      <th>368</th>\n",
       "      <td>Painting Guardian's Curved Sword</td>\n",
       "      <td>3</td>\n",
       "    </tr>\n",
       "    <tr>\n",
       "      <th>108</th>\n",
       "      <td>finely-sharpened blade</td>\n",
       "      <td>3</td>\n",
       "    </tr>\n",
       "    <tr>\n",
       "      <th>216</th>\n",
       "      <td>Lightning Great Mace</td>\n",
       "      <td>3</td>\n",
       "    </tr>\n",
       "    <tr>\n",
       "      <th>257</th>\n",
       "      <td>Morne's Great Hammer</td>\n",
       "      <td>3</td>\n",
       "    </tr>\n",
       "    <tr>\n",
       "      <th>41</th>\n",
       "      <td>Lightning Broadsword</td>\n",
       "      <td>3</td>\n",
       "    </tr>\n",
       "    <tr>\n",
       "      <th>183</th>\n",
       "      <td>Poison Mace</td>\n",
       "      <td>3</td>\n",
       "    </tr>\n",
       "  </tbody>\n",
       "</table>\n",
       "</div>"
      ],
      "text/plain": [
       "                                 node  degree\n",
       "53                              Parry       7\n",
       "61                      Black Knights       5\n",
       "266             Old Wolf Curved Sword       4\n",
       "167                   Corvian Knights       4\n",
       "368  Painting Guardian's Curved Sword       3\n",
       "108            finely-sharpened blade       3\n",
       "216              Lightning Great Mace       3\n",
       "257              Morne's Great Hammer       3\n",
       "41               Lightning Broadsword       3\n",
       "183                       Poison Mace       3"
      ]
     },
     "execution_count": 29,
     "metadata": {},
     "output_type": "execute_result"
    }
   ],
   "source": [
    "# Build directed graph\n",
    "G = nx.from_pandas_edgelist(\n",
    "    edges,\n",
    "    source=\"source\",\n",
    "    target=\"target\",\n",
    "    edge_attr=\"type\",\n",
    "    create_using=nx.DiGraph()\n",
    ")\n",
    "\n",
    "# Compute degree for each node\n",
    "degree_df = pd.DataFrame(G.degree, columns=[\"node\", \"degree\"])\n",
    "degree_df = degree_df.sort_values(by=\"degree\", ascending=False)\n",
    "\n",
    "# Top 10 nodes by degree\n",
    "degree_df.head(10)"
   ]
  },
  {
   "cell_type": "markdown",
   "id": "0418f7ed",
   "metadata": {},
   "source": [
    "##### 3.2.2.1 Interpretation: Top Connected Entities\n",
    "\n",
    "To assess the most connected entities in the graph, I computed the degree (number of total connections) for each node. This provides insight into which entities are most central within the knowledge graph.\n",
    "\n",
    "The top entities by degree are:\n",
    "\n",
    "- `Parry`, with 7 connections, stands out as a frequently referenced ability across different items and relationships.\n",
    "- Characters and enemies such as `Black Knights` and `Corvian Knights` also show high connectivity, indicating their narrative and gameplay significance in the Dark Souls universe.\n",
    "- Several weapons like the `Old Wolf Curved Sword` and `Painting Guardian's Curved Sword` appear multiple times, suggesting they are associated with multiple relationships or entities.\n",
    "\n",
    "This analysis helps identify key gameplay mechanics and lore figures with high relational importance in the constructed graph."
   ]
  },
  {
   "cell_type": "markdown",
   "id": "a28c155a",
   "metadata": {},
   "source": [
    "#### 3.2.3 Central Entities and Relationships\n",
    "\n",
    "I compute in-degree and out-degree centrality to identify important lore items based on how frequently they are referenced or reference others.\n"
   ]
  },
  {
   "cell_type": "code",
   "execution_count": 30,
   "id": "35faeb1b",
   "metadata": {},
   "outputs": [
    {
     "data": {
      "text/html": [
       "<div>\n",
       "<style scoped>\n",
       "    .dataframe tbody tr th:only-of-type {\n",
       "        vertical-align: middle;\n",
       "    }\n",
       "\n",
       "    .dataframe tbody tr th {\n",
       "        vertical-align: top;\n",
       "    }\n",
       "\n",
       "    .dataframe thead th {\n",
       "        text-align: right;\n",
       "    }\n",
       "</style>\n",
       "<table border=\"1\" class=\"dataframe\">\n",
       "  <thead>\n",
       "    <tr style=\"text-align: right;\">\n",
       "      <th></th>\n",
       "      <th>node</th>\n",
       "      <th>in_degree</th>\n",
       "      <th>out_degree</th>\n",
       "    </tr>\n",
       "  </thead>\n",
       "  <tbody>\n",
       "    <tr>\n",
       "      <th>0</th>\n",
       "      <td>bleeding</td>\n",
       "      <td>3.0</td>\n",
       "      <td>NaN</td>\n",
       "    </tr>\n",
       "    <tr>\n",
       "      <th>1</th>\n",
       "      <td>chaos demons</td>\n",
       "      <td>3.0</td>\n",
       "      <td>NaN</td>\n",
       "    </tr>\n",
       "    <tr>\n",
       "      <th>2</th>\n",
       "      <td>the painting</td>\n",
       "      <td>2.0</td>\n",
       "      <td>NaN</td>\n",
       "    </tr>\n",
       "    <tr>\n",
       "      <th>3</th>\n",
       "      <td>twisted rage of Apostle Morne</td>\n",
       "      <td>2.0</td>\n",
       "      <td>NaN</td>\n",
       "    </tr>\n",
       "    <tr>\n",
       "      <th>4</th>\n",
       "      <td>the soul</td>\n",
       "      <td>2.0</td>\n",
       "      <td>NaN</td>\n",
       "    </tr>\n",
       "    <tr>\n",
       "      <th>5</th>\n",
       "      <td>Parry</td>\n",
       "      <td>NaN</td>\n",
       "      <td>7.0</td>\n",
       "    </tr>\n",
       "    <tr>\n",
       "      <th>6</th>\n",
       "      <td>Black Knights</td>\n",
       "      <td>NaN</td>\n",
       "      <td>5.0</td>\n",
       "    </tr>\n",
       "    <tr>\n",
       "      <th>7</th>\n",
       "      <td>Corvian Knights</td>\n",
       "      <td>NaN</td>\n",
       "      <td>4.0</td>\n",
       "    </tr>\n",
       "    <tr>\n",
       "      <th>8</th>\n",
       "      <td>Old Wolf Curved Sword</td>\n",
       "      <td>NaN</td>\n",
       "      <td>4.0</td>\n",
       "    </tr>\n",
       "    <tr>\n",
       "      <th>9</th>\n",
       "      <td>blade</td>\n",
       "      <td>NaN</td>\n",
       "      <td>3.0</td>\n",
       "    </tr>\n",
       "  </tbody>\n",
       "</table>\n",
       "</div>"
      ],
      "text/plain": [
       "                            node  in_degree  out_degree\n",
       "0                       bleeding        3.0         NaN\n",
       "1                   chaos demons        3.0         NaN\n",
       "2                   the painting        2.0         NaN\n",
       "3  twisted rage of Apostle Morne        2.0         NaN\n",
       "4                       the soul        2.0         NaN\n",
       "5                          Parry        NaN         7.0\n",
       "6                  Black Knights        NaN         5.0\n",
       "7                Corvian Knights        NaN         4.0\n",
       "8          Old Wolf Curved Sword        NaN         4.0\n",
       "9                          blade        NaN         3.0"
      ]
     },
     "execution_count": 30,
     "metadata": {},
     "output_type": "execute_result"
    }
   ],
   "source": [
    "# In-degree (entities that are frequently targeted)\n",
    "in_degree_df = pd.DataFrame(G.in_degree, columns=[\"node\", \"in_degree\"])\n",
    "in_degree_df = in_degree_df.sort_values(by=\"in_degree\", ascending=False)\n",
    "\n",
    "# Out-degree (entities that frequently initiate relationships)\n",
    "out_degree_df = pd.DataFrame(G.out_degree, columns=[\"node\", \"out_degree\"])\n",
    "out_degree_df = out_degree_df.sort_values(by=\"out_degree\", ascending=False)\n",
    "\n",
    "# Top 5 of each and merged\n",
    "pd.merge(in_degree_df.head(5), out_degree_df.head(5), on=\"node\", how=\"outer\")"
   ]
  },
  {
   "cell_type": "markdown",
   "id": "714b4191",
   "metadata": {},
   "source": [
    "##### 3.2.3.1 Interpretation: In-Degree and Out-Degree Distributions\n",
    "\n",
    "To better understand how entities interact within the graph, I computed both the in-degree (how many relationships point to a node) and out-degree (how many relationships originate from a node) for each entity.\n",
    "\n",
    "This distinction helps differentiate between entities that are frequently referenced (high in-degree) versus those that initiate many relationships (high out-degree).\n",
    "\n",
    "The results show:\n",
    "\n",
    "- Entities such as `bleeding`, `chaos demons`, and `the painting` have high in-degree values, suggesting they are frequently mentioned or involved in other items’ descriptions.\n",
    "- On the other hand, entities like `Parry`, `Black Knights`, and `Old Wolf Curved Sword` exhibit high out-degree, indicating they initiate multiple relationships — often describing other concepts or linking to many aspects of the lore.\n",
    "\n",
    "This analysis helps identify central lore concepts versus entities that serve as relationship hubs within the graph structure.\n"
   ]
  },
  {
   "cell_type": "markdown",
   "id": "3aa52024",
   "metadata": {},
   "source": [
    "#### 3.2.4 Visual Insights"
   ]
  },
  {
   "cell_type": "code",
   "execution_count": 31,
   "id": "c8f3d1a7",
   "metadata": {},
   "outputs": [
    {
     "data": {
      "image/png": "[encoded data removed]",
      "text/plain": [
       "<Figure size 1000x400 with 1 Axes>"
      ]
     },
     "metadata": {},
     "output_type": "display_data"
    }
   ],
   "source": [
    "# Plot degree distribution\n",
    "plt.figure(figsize=(10, 4))\n",
    "plt.hist(degree_df[\"degree\"], bins=30, color='darkred')\n",
    "plt.title(\"Node Degree Distribution\")\n",
    "plt.xlabel(\"Degree\")\n",
    "plt.ylabel(\"Frequency\")\n",
    "plt.grid(True)\n",
    "plt.show()"
   ]
  },
  {
   "cell_type": "code",
   "execution_count": 32,
   "id": "7de369b5",
   "metadata": {},
   "outputs": [
    {
     "data": {
      "text/plain": [
       "<Figure size 1000x400 with 0 Axes>"
      ]
     },
     "metadata": {},
     "output_type": "display_data"
    },
    {
     "data": {
      "image/png": "[encoded data removed]",
      "text/plain": [
       "<Figure size 640x480 with 1 Axes>"
      ]
     },
     "metadata": {},
     "output_type": "display_data"
    }
   ],
   "source": [
    "# Plot most frequent relationships\n",
    "plt.figure(figsize=(10, 4))\n",
    "relation_counts.head(10).plot(kind=\"bar\", x=\"relation\", y=\"count\", legend=False, color=\"darkblue\")\n",
    "plt.title(\"Top 10 Relationship Types\")\n",
    "plt.ylabel(\"Frequency\")\n",
    "plt.xlabel(\"Relation\")\n",
    "plt.xticks(rotation=45)\n",
    "plt.tight_layout()\n",
    "plt.show()"
   ]
  },
  {
   "cell_type": "markdown",
   "id": "a108099b",
   "metadata": {},
   "source": [
    "##### 3.2.4  Visual Insights from Graph Structure\n",
    "\n",
    "To complement the statistical analysis, I generated two visualizations: a histogram of node degrees and a bar chart of the top 10 relationship types.\n",
    "\n",
    "##### Node Degree Distribution\n",
    "\n",
    "The histogram reveals a highly right-skewed distribution. Out of 406 nodes:\n",
    "\n",
    "- **302 nodes** have a degree of 1, meaning they are connected to only one other entity.\n",
    "- **73 nodes** have a degree of 2.\n",
    "- A few nodes have degrees of 3 or 4, and only **two nodes** exceed degree 4 — one with degree 5 and one with degree 7.\n",
    "\n",
    "This pattern is typical of knowledge graphs, where a small number of entities serve as hubs, while most nodes participate in only one or two relationships. This structural insight reinforces the importance of identifying and interpreting central nodes for downstream tasks such as question-answering.\n",
    "\n",
    "##### Top Relationship Types\n",
    "\n",
    "The bar chart of relationship frequencies highlights the most common semantic links between entities:\n",
    "\n",
    "- The most frequent predicate is **is** (18 occurrences), often used to denote identity or classification.\n",
    "- Functional and descriptive relations such as **allows**, **wield**, **has**, and **symbolizes** are also common.\n",
    "- Less frequent but semantically rich relations like **engraved with** and **offer** contribute to the graph's narrative depth.\n",
    "\n",
    "These insights provide a clearer view of the underlying structure of the Dark Souls lore graph and help prioritize paths for exploration and question-answering."
   ]
  },
  {
   "cell_type": "markdown",
   "id": "08695de6",
   "metadata": {},
   "source": [
    "#### 3.2.5 Sample Queries for Patterns\n",
    "\n",
    "To further investigate the graph's semantic structure, I queried specific predicates to identify entities associated with certain types of relationships."
   ]
  },
  {
   "cell_type": "code",
   "execution_count": 33,
   "id": "273afc8a",
   "metadata": {},
   "outputs": [
    {
     "data": {
      "text/plain": [
       "Black Knights                           2\n",
       "grave wardens                           2\n",
       "knights of the Cathedral of the Deep    1\n",
       "Gargoyles                               1\n",
       "Painting Guardians                      1\n",
       "Name: source, dtype: int64"
      ]
     },
     "execution_count": 33,
     "metadata": {},
     "output_type": "execute_result"
    }
   ],
   "source": [
    "# Query 1: What entities wield multiple weapons?\n",
    "edges[edges[\"type\"].str.lower() == \"wield\"][\"source\"].value_counts().head(5)"
   ]
  },
  {
   "cell_type": "code",
   "execution_count": 34,
   "id": "8a37c111",
   "metadata": {},
   "outputs": [
    {
     "data": {
      "text/plain": [
       "Simpleton Sacred Wood Crest Shield    1\n",
       "Lightning Eagle Kite Shield           1\n",
       "Heavy Dragon Crest Shield             1\n",
       "blade                                 1\n",
       "Fire Crest Shield                     1\n",
       "Name: source, dtype: int64"
      ]
     },
     "execution_count": 34,
     "metadata": {},
     "output_type": "execute_result"
    }
   ],
   "source": [
    "# Query 2: What items are engraved with something?\n",
    "edges[edges[\"type\"].str.lower() == \"engraved with\"][\"source\"].value_counts().head(5)"
   ]
  },
  {
   "cell_type": "markdown",
   "id": "129d5020",
   "metadata": {},
   "source": [
    "##### 3.2.5.1 Interpretation: Query-Based Pattern Analysis\n",
    "\n",
    "To identify semantically rich patterns within the graph, I executed targeted queries over specific relationship types.\n",
    "\n",
    "The first query retrieved entities that frequently **used something**. The results revealed groups of enemies or characters such as `Black Knights`, `grave wardens`, and `knights of the Cathedral of the Deep`, each associated with items they wield or employ in combat. This provides insight into how equipment and weaponry are distributed across factions in the game's lore.\n",
    "\n",
    "The second query retrieved entities that **have a skill**, uncovering a set of specialized shields and weapon types. For example, the `Simpleton Sacred Wood Crest Shield` and `Lightning Eagle Kite Shield` each possess a distinct skill, offering a glimpse into the gameplay mechanics embedded in the items.\n",
    "\n",
    "These targeted queries demonstrate how predicate-based slicing of the graph enables discovery of lore-relevant patterns, making it easier to interpret how different entities interact with each other. Such pattern-based querying lays the foundation for more structured question-answering workflows in the next stage.\n"
   ]
  },
  {
   "cell_type": "markdown",
   "id": "f6035da3",
   "metadata": {},
   "source": [
    "### 3.3 Question-Answering over the Graph  "
   ]
  },
  {
   "cell_type": "code",
   "execution_count": 4,
   "id": "e2b09ba4",
   "metadata": {},
   "outputs": [],
   "source": [
    "# Connect to Neo4j AuraDB\n",
    "load_dotenv()  # Carrega as variáveis do .env\n",
    "\n",
    "uri = os.getenv(\"NEO4J_URI\")\n",
    "username = os.getenv(\"NEO4J_USERNAME\")\n",
    "password = os.getenv(\"NEO4J_PASSWORD\")\n",
    "\n",
    "driver = GraphDatabase.driver(uri, auth=(username, password))\n",
    "\n",
    "\n",
    "# Function to run Cypher queries\n",
    "def run_query(query):\n",
    "    with driver.session() as session:\n",
    "        result = session.run(query)\n",
    "        return [record.data() for record in result]"
   ]
  },
  {
   "cell_type": "markdown",
   "id": "b97971d1",
   "metadata": {},
   "source": [
    "### 3.3.1 Who are the Black Knights related to?\n",
    "The Black Knights are iconic and recurring enemies in the Dark Souls universe, known for their lore significance and combat difficulty. Investigating their connections in the graph can help illuminate their role in the narrative, their affiliations, and the items or locations they interact with. This type of query is useful to uncover key relationships around central characters or factions."
   ]
  },
  {
   "cell_type": "code",
   "execution_count": 51,
   "id": "c6bb4491",
   "metadata": {},
   "outputs": [
    {
     "data": {
      "text/html": [
       "<div>\n",
       "<style scoped>\n",
       "    .dataframe tbody tr th:only-of-type {\n",
       "        vertical-align: middle;\n",
       "    }\n",
       "\n",
       "    .dataframe tbody tr th {\n",
       "        vertical-align: top;\n",
       "    }\n",
       "\n",
       "    .dataframe thead th {\n",
       "        text-align: right;\n",
       "    }\n",
       "</style>\n",
       "<table border=\"1\" class=\"dataframe\">\n",
       "  <thead>\n",
       "    <tr style=\"text-align: right;\">\n",
       "      <th></th>\n",
       "      <th>relation</th>\n",
       "      <th>target</th>\n",
       "    </tr>\n",
       "  </thead>\n",
       "  <tbody>\n",
       "    <tr>\n",
       "      <th>0</th>\n",
       "      <td>faced</td>\n",
       "      <td>chaos demons</td>\n",
       "    </tr>\n",
       "    <tr>\n",
       "      <th>1</th>\n",
       "      <td>were_charred</td>\n",
       "      <td>black</td>\n",
       "    </tr>\n",
       "    <tr>\n",
       "      <th>2</th>\n",
       "      <td>wield</td>\n",
       "      <td>Heavy Black Knight Sword</td>\n",
       "    </tr>\n",
       "    <tr>\n",
       "      <th>3</th>\n",
       "      <td>wield</td>\n",
       "      <td>Black Knight Sword</td>\n",
       "    </tr>\n",
       "    <tr>\n",
       "      <th>4</th>\n",
       "      <td>constantly_faced</td>\n",
       "      <td>foes larger than themselves</td>\n",
       "    </tr>\n",
       "  </tbody>\n",
       "</table>\n",
       "</div>"
      ],
      "text/plain": [
       "           relation                       target\n",
       "0             faced                 chaos demons\n",
       "1      were_charred                        black\n",
       "2             wield     Heavy Black Knight Sword\n",
       "3             wield           Black Knight Sword\n",
       "4  constantly_faced  foes larger than themselves"
      ]
     },
     "execution_count": 51,
     "metadata": {},
     "output_type": "execute_result"
    }
   ],
   "source": [
    "# Cypher query to explore connections from Black Knights\n",
    "query = \"\"\"\n",
    "MATCH (e1:Entity {id: 'Black Knights'})-[r]->(e2:Entity)\n",
    "RETURN type(r) AS relation, e2.id AS target\n",
    "\"\"\"\n",
    "\n",
    "with driver.session() as session:\n",
    "    result = session.run(query)\n",
    "    black_knight_relations = pd.DataFrame([record.data() for record in result])\n",
    "\n",
    "black_knight_relations"
   ]
  },
  {
   "cell_type": "markdown",
   "id": "d2cf7395",
   "metadata": {},
   "source": [
    "#### 3.3.1.1 Interpretation: Outgoing Relations from Black Knights\n",
    "\n",
    "This query reveals all outgoing relationships from the entity `Black Knights`. The results show a variety of interactions:\n",
    "\n",
    "- They *faced* powerful enemies such as **chaos demons** and **foes larger than themselves**, suggesting their combat history and role as elite warriors.\n",
    "- The relation *were_charred → black* hints at a transformation or origin tied to fire or ash — consistent with their lore in Dark Souls.\n",
    "- The *wield* relationships connect them to iconic weapons like the **Black Knight Sword**, reinforcing their identity as formidable adversaries.\n",
    "\n",
    "These insights align with the narrative portrayal of the Black Knights as fearsome yet tragic figures — remnants of a great war, marked by both strength and suffering."
   ]
  },
  {
   "cell_type": "markdown",
   "id": "50ed3a82",
   "metadata": {},
   "source": [
    "### 3.3.2 Which weapons are wielded by Black Knights?\n",
    "\n",
    "The Black Knights are legendary figures in Dark Souls, often associated with powerful and rare weaponry. Understanding which weapons they wield can help players trace unique gear and gain insight into lore connections and combat capabilities."
   ]
  },
  {
   "cell_type": "code",
   "execution_count": 54,
   "id": "e92befde",
   "metadata": {},
   "outputs": [
    {
     "data": {
      "text/html": [
       "<div>\n",
       "<style scoped>\n",
       "    .dataframe tbody tr th:only-of-type {\n",
       "        vertical-align: middle;\n",
       "    }\n",
       "\n",
       "    .dataframe tbody tr th {\n",
       "        vertical-align: top;\n",
       "    }\n",
       "\n",
       "    .dataframe thead th {\n",
       "        text-align: right;\n",
       "    }\n",
       "</style>\n",
       "<table border=\"1\" class=\"dataframe\">\n",
       "  <thead>\n",
       "    <tr style=\"text-align: right;\">\n",
       "      <th></th>\n",
       "      <th>weapon</th>\n",
       "    </tr>\n",
       "  </thead>\n",
       "  <tbody>\n",
       "    <tr>\n",
       "      <th>0</th>\n",
       "      <td>Black Knight Sword</td>\n",
       "    </tr>\n",
       "    <tr>\n",
       "      <th>1</th>\n",
       "      <td>Heavy Black Knight Sword</td>\n",
       "    </tr>\n",
       "  </tbody>\n",
       "</table>\n",
       "</div>"
      ],
      "text/plain": [
       "                     weapon\n",
       "0        Black Knight Sword\n",
       "1  Heavy Black Knight Sword"
      ]
     },
     "execution_count": 54,
     "metadata": {},
     "output_type": "execute_result"
    }
   ],
   "source": [
    "query = \"\"\"\n",
    "MATCH (e1:Entity {id: 'Black Knights'})-[:wield]->(e2:Entity)\n",
    "RETURN e2.id AS weapon\n",
    "ORDER BY weapon\n",
    "\"\"\"\n",
    "\n",
    "with driver.session() as session:\n",
    "    result = session.run(query)\n",
    "    black_knight_weapons = pd.DataFrame([record.data() for record in result])\n",
    "\n",
    "black_knight_weapons\n"
   ]
  },
  {
   "cell_type": "markdown",
   "id": "2cc574bc",
   "metadata": {},
   "source": [
    "#### 3.3.2.1 Interpretation: Weapons of the Black Knights\n",
    "\n",
    "This query identifies all weapons directly connected to the `Black Knights` through the `wield` relationship. These are the weapons they explicitly wield according to the graph structure.\n",
    "\n",
    "In this case, the **Black Knight Sword** and **Heavy Black Knight Sword** are the only weapons shown, emphasizing their iconic combat style and brute strength. While previous versions of the graph may have included indirect associations, this cleaned structure reflects only the most direct and confirmed lore-based links."
   ]
  },
  {
   "cell_type": "markdown",
   "id": "b1f15f26",
   "metadata": {},
   "source": [
    "### 3.3.3 What properties or affiliations do shields reveal?\n",
    "\n",
    "Shields in Dark Souls are not merely defensive equipment — they often hint at deeper affiliations, symbolic meanings, or embedded mechanics. This question explores the various attributes and lore-based relationships associated with shields in the graph."
   ]
  },
  {
   "cell_type": "code",
   "execution_count": 6,
   "id": "e2b6af74",
   "metadata": {},
   "outputs": [
    {
     "data": {
      "text/html": [
       "<div>\n",
       "<style scoped>\n",
       "    .dataframe tbody tr th:only-of-type {\n",
       "        vertical-align: middle;\n",
       "    }\n",
       "\n",
       "    .dataframe tbody tr th {\n",
       "        vertical-align: top;\n",
       "    }\n",
       "\n",
       "    .dataframe thead th {\n",
       "        text-align: right;\n",
       "    }\n",
       "</style>\n",
       "<table border=\"1\" class=\"dataframe\">\n",
       "  <thead>\n",
       "    <tr style=\"text-align: right;\">\n",
       "      <th></th>\n",
       "      <th>shield</th>\n",
       "      <th>relation</th>\n",
       "      <th>target</th>\n",
       "    </tr>\n",
       "  </thead>\n",
       "  <tbody>\n",
       "    <tr>\n",
       "      <th>0</th>\n",
       "      <td>Equipping this shield in the left hand</td>\n",
       "      <td>allows</td>\n",
       "      <td>one to perform the Skill of the right hand weapon</td>\n",
       "    </tr>\n",
       "    <tr>\n",
       "      <th>1</th>\n",
       "      <td>Equipping this shield in the left hand</td>\n",
       "      <td>allows</td>\n",
       "      <td>perform the Skill of the right hand weapon</td>\n",
       "    </tr>\n",
       "    <tr>\n",
       "      <th>2</th>\n",
       "      <td>Small shields</td>\n",
       "      <td>are</td>\n",
       "      <td>lightweight</td>\n",
       "    </tr>\n",
       "    <tr>\n",
       "      <th>3</th>\n",
       "      <td>Poison Black Iron Greatshield</td>\n",
       "      <td>associated_with</td>\n",
       "      <td>Knightslayer Tsorig</td>\n",
       "    </tr>\n",
       "    <tr>\n",
       "      <th>4</th>\n",
       "      <td>Refined Warrior's Shield</td>\n",
       "      <td>bears</td>\n",
       "      <td>double-bladed axe</td>\n",
       "    </tr>\n",
       "    <tr>\n",
       "      <th>5</th>\n",
       "      <td>shields</td>\n",
       "      <td>became_resistant_to</td>\n",
       "      <td>fire</td>\n",
       "    </tr>\n",
       "    <tr>\n",
       "      <th>6</th>\n",
       "      <td>Shield of the Pontiff Knights</td>\n",
       "      <td>belongs_to</td>\n",
       "      <td>Irithyll's Boreal Spirits</td>\n",
       "    </tr>\n",
       "    <tr>\n",
       "      <th>7</th>\n",
       "      <td>Sunset Shield</td>\n",
       "      <td>belongs_to</td>\n",
       "      <td>Holy Knights of the Sunless Realms</td>\n",
       "    </tr>\n",
       "    <tr>\n",
       "      <th>8</th>\n",
       "      <td>Blood Llewellyn Shield</td>\n",
       "      <td>crafted_by</td>\n",
       "      <td>great smith</td>\n",
       "    </tr>\n",
       "    <tr>\n",
       "      <th>9</th>\n",
       "      <td>Heavy Lothric Shield</td>\n",
       "      <td>decorated_with</td>\n",
       "      <td>the royal crest</td>\n",
       "    </tr>\n",
       "  </tbody>\n",
       "</table>\n",
       "</div>"
      ],
      "text/plain": [
       "                                   shield             relation  \\\n",
       "0  Equipping this shield in the left hand               allows   \n",
       "1  Equipping this shield in the left hand               allows   \n",
       "2                           Small shields                  are   \n",
       "3           Poison Black Iron Greatshield      associated_with   \n",
       "4                Refined Warrior's Shield                bears   \n",
       "5                                 shields  became_resistant_to   \n",
       "6           Shield of the Pontiff Knights           belongs_to   \n",
       "7                           Sunset Shield           belongs_to   \n",
       "8                  Blood Llewellyn Shield           crafted_by   \n",
       "9                    Heavy Lothric Shield       decorated_with   \n",
       "\n",
       "                                              target  \n",
       "0  one to perform the Skill of the right hand weapon  \n",
       "1         perform the Skill of the right hand weapon  \n",
       "2                                        lightweight  \n",
       "3                                Knightslayer Tsorig  \n",
       "4                                  double-bladed axe  \n",
       "5                                               fire  \n",
       "6                          Irithyll's Boreal Spirits  \n",
       "7                 Holy Knights of the Sunless Realms  \n",
       "8                                        great smith  \n",
       "9                                    the royal crest  "
      ]
     },
     "execution_count": 6,
     "metadata": {},
     "output_type": "execute_result"
    }
   ],
   "source": [
    "query = \"\"\"\n",
    "MATCH (s:Entity)-[r]->(e:Entity)\n",
    "WHERE toLower(s.id) CONTAINS \"shield\"\n",
    "RETURN s.id AS shield, type(r) AS relation, e.id AS target\n",
    "ORDER BY relation\n",
    "\"\"\"\n",
    "with driver.session() as session:\n",
    "    result = session.run(query)\n",
    "    shield_properties = pd.DataFrame([record.data() for record in result])\n",
    "\n",
    "shield_properties.head(10)"
   ]
  },
  {
   "cell_type": "markdown",
   "id": "551e49a4",
   "metadata": {},
   "source": [
    "#### 3.3.3.1 Interpretation: Shields as Lore-Bearing Artifacts\n",
    "\n",
    "Shields in *Dark Souls* are far more than defensive equipment — they act as symbolic and narrative devices embedded with rich lore and gameplay functions.\n",
    "\n",
    "From the graph, 44 distinct relationships tied to shields were found, revealing a wide spectrum of meanings:\n",
    "\n",
    "- **Combat Mechanics & Functionality**  \n",
    "  Shields often interact with game mechanics directly:  \n",
    "  - `allows` — some shields enable the use of right-hand weapon skills when equipped in the left hand.  \n",
    "  - `make` — e.g., small shields *make ideal instruments for parrying*.  \n",
    "  - `offer` — describe strengths like *high magic absorption* or *little damage absorption*.\n",
    "\n",
    "- **Lore & Affiliation**  \n",
    "  Several shields are tied to factions or figures:  \n",
    "  - `belongs_to` — *Sunset Shield* belongs to the Holy Knights of the Sunless Realms.  \n",
    "  - `associated_with` — *Poison Black Iron Greatshield* is associated with *Knightslayer Tsorig*.  \n",
    "  - `crafted_by` — *Blood Llewellyn Shield* was crafted by a *great smith*.  \n",
    "  - `was_used_by` — the *Chaos Sunlight Shield* was used by an *old Knight of Sunlight*.\n",
    "\n",
    "- **Aesthetic & Symbolic Details**  \n",
    "  Many shields have visual or thematic decorations:  \n",
    "  - `engraved_with` — e.g., *dragon crest*, *sacred tree*, or *crest of a sacred order*.  \n",
    "  - `is_decorated_with` — like a *two-headed dragon* or a *holy sun symbol*.  \n",
    "  - `bears` — physical features like a *double-bladed axe*.\n",
    "\n",
    "- **Material, Elemental, and Physical Traits**  \n",
    "  Shields encode qualities like:  \n",
    "  - `fashioned_from` — *rare geisteel*.  \n",
    "  - `greatly_reduces` — *magic* or *fire damage*.  \n",
    "  - `is_resistant_to` — *poison* or *other poisons*.\n",
    "\n",
    "- **Narrative Commentary & Symbolism**  \n",
    "  Some relationships are unusually rich:  \n",
    "  - `were_made_to_shame` — shields designed to humiliate *weak-willed knights*.  \n",
    "  - `were_subject_to` — those who carried such shields faced *merciless ridicule*.\n",
    "\n",
    "Together, these relationships reveal that shields in *Dark Souls* are not just combat gear. They are narrative artifacts — carrying stories, symbols, and subtle clues that deepen the world-building and thematic coherence of the game."
   ]
  },
  {
   "cell_type": "markdown",
   "id": "89cdda01",
   "metadata": {},
   "source": [
    "### 3.3.4 What weapons are effective against specific enemy types?\n",
    "\n",
    "This question aims to surface tactical knowledge embedded in the graph. Some weapons are described as being particularly effective against certain enemy types. These connections may reveal intended use cases and player guidance embedded in item descriptions."
   ]
  },
  {
   "cell_type": "code",
   "execution_count": 56,
   "id": "b683d4e0",
   "metadata": {},
   "outputs": [
    {
     "data": {
      "text/html": [
       "<div>\n",
       "<style scoped>\n",
       "    .dataframe tbody tr th:only-of-type {\n",
       "        vertical-align: middle;\n",
       "    }\n",
       "\n",
       "    .dataframe tbody tr th {\n",
       "        vertical-align: top;\n",
       "    }\n",
       "\n",
       "    .dataframe thead th {\n",
       "        text-align: right;\n",
       "    }\n",
       "</style>\n",
       "<table border=\"1\" class=\"dataframe\">\n",
       "  <thead>\n",
       "    <tr style=\"text-align: right;\">\n",
       "      <th></th>\n",
       "      <th>weapon</th>\n",
       "      <th>enemy</th>\n",
       "    </tr>\n",
       "  </thead>\n",
       "  <tbody>\n",
       "    <tr>\n",
       "      <th>0</th>\n",
       "      <td>Blood Club</td>\n",
       "      <td>most foes</td>\n",
       "    </tr>\n",
       "    <tr>\n",
       "      <th>1</th>\n",
       "      <td>Lightning Broadsword</td>\n",
       "      <td>crowds</td>\n",
       "    </tr>\n",
       "  </tbody>\n",
       "</table>\n",
       "</div>"
      ],
      "text/plain": [
       "                 weapon      enemy\n",
       "0            Blood Club  most foes\n",
       "1  Lightning Broadsword     crowds"
      ]
     },
     "execution_count": 56,
     "metadata": {},
     "output_type": "execute_result"
    }
   ],
   "source": [
    "query = \"\"\"\n",
    "MATCH (w:Entity)-[:is_effective_against]->(e:Entity)\n",
    "RETURN w.id AS weapon, e.id AS enemy\n",
    "\"\"\"\n",
    "with driver.session() as session:\n",
    "    result = session.run(query)\n",
    "    effective_weapons = pd.DataFrame([record.data() for record in result])\n",
    "effective_weapons"
   ]
  },
  {
   "cell_type": "markdown",
   "id": "f82e68d6",
   "metadata": {},
   "source": [
    "#### 3.3.4.1 Interpretation: Weapons Effective Against Enemy Types\n",
    "\n",
    "This query investigates which weapons are explicitly connected to enemy types through effectiveness relationships.\n",
    "\n",
    "- The `Blood Club` is noted as effective against **most foes**, suggesting it is a broadly useful weapon.\n",
    "- The `Lightning Broadsword` is effective against **crowds**, making it a tactical choice for fights involving multiple enemies.\n",
    "\n",
    "Although only a few connections were found, they offer important insights into item functionality and embedded gameplay strategies in the Dark Souls universe. These patterns can guide players toward optimized choices based on enemy types encountered in battle."
   ]
  },
  {
   "cell_type": "markdown",
   "id": "7d74c189",
   "metadata": {},
   "source": [
    "### 3.3.5 What skills are associated with specific weapons?\n",
    "\n",
    "Skills play a major role in Dark Souls' combat mechanics. This question investigates which weapons are linked to particular skills, helping map gameplay mechanics to specific entities in the graph."
   ]
  },
  {
   "cell_type": "code",
   "execution_count": 57,
   "id": "c998c0ca",
   "metadata": {},
   "outputs": [
    {
     "data": {
      "text/html": [
       "<div>\n",
       "<style scoped>\n",
       "    .dataframe tbody tr th:only-of-type {\n",
       "        vertical-align: middle;\n",
       "    }\n",
       "\n",
       "    .dataframe tbody tr th {\n",
       "        vertical-align: top;\n",
       "    }\n",
       "\n",
       "    .dataframe thead th {\n",
       "        text-align: right;\n",
       "    }\n",
       "</style>\n",
       "<table border=\"1\" class=\"dataframe\">\n",
       "  <thead>\n",
       "    <tr style=\"text-align: right;\">\n",
       "      <th></th>\n",
       "      <th>weapon</th>\n",
       "      <th>skill</th>\n",
       "    </tr>\n",
       "  </thead>\n",
       "  <tbody>\n",
       "    <tr>\n",
       "      <th>0</th>\n",
       "      <td>Dark Bastard Sword</td>\n",
       "      <td>Stomp</td>\n",
       "    </tr>\n",
       "    <tr>\n",
       "      <th>1</th>\n",
       "      <td>Gargoyle Flame Hammer</td>\n",
       "      <td>Kindled Flurry</td>\n",
       "    </tr>\n",
       "  </tbody>\n",
       "</table>\n",
       "</div>"
      ],
      "text/plain": [
       "                  weapon           skill\n",
       "0     Dark Bastard Sword           Stomp\n",
       "1  Gargoyle Flame Hammer  Kindled Flurry"
      ]
     },
     "execution_count": 57,
     "metadata": {},
     "output_type": "execute_result"
    }
   ],
   "source": [
    "query = \"\"\"\n",
    "MATCH (s:Entity)-[:has_skill]->(k:Entity)\n",
    "RETURN s.id AS weapon, k.id AS skill\n",
    "ORDER BY s.id\n",
    "\"\"\"\n",
    "\n",
    "with driver.session() as session:\n",
    "    result = session.run(query)\n",
    "    weapon_skills = pd.DataFrame([record.data() for record in result])\n",
    "\n",
    "weapon_skills"
   ]
  },
  {
   "cell_type": "markdown",
   "id": "44e6ba7d",
   "metadata": {},
   "source": [
    "#### 3.3.5.1 Interpretation: Weapon-Skill Associations\n",
    "\n",
    "This query explores which weapons are explicitly associated with combat skills in the knowledge graph. Two relationships were found:\n",
    "\n",
    "- The `Dark Bastard Sword` is linked to the skill **Stomp**, which typically provides a poise-based offensive boost in combat.\n",
    "- The `Gargoyle Flame Hammer` is associated with **Kindled Flurry`, likely referencing a rapid or flame-enhanced attack.\n",
    "\n",
    "These associations reinforce the idea that specific weapons are designed with particular combat styles in mind. Although only a few links are present, they illustrate how item descriptions encode gameplay mechanics that can be surfaced through graph exploration."
   ]
  },
  {
   "cell_type": "markdown",
   "id": "8d94d952",
   "metadata": {},
   "source": [
    "### 3.3.6 Conclusion: Insights from Graph-Based Question-Answering\n",
    "\n",
    "The question-answering stage demonstrates how structured relationships extracted from item descriptions can unlock meaningful insights into *Dark Souls* lore and mechanics. Through five targeted queries, the graph revealed:\n",
    "\n",
    "- **Factual connections** between key entities and items, such as the *Black Knights* and the specific weapons they wield.\n",
    "- **Symbolic and thematic meaning**, where shields and weapons are inscribed with crests, tied to noble lineages, or crafted by legendary figures.\n",
    "- **Combat logic and utility**, including which weapons are effective against groups of enemies and which skills are embedded in specific gear.\n",
    "- **Rich narrative affiliations**, particularly in shields, which reflect both mechanical roles and deeper lore (e.g., shame, ridicule, resistance, or allegiance).\n",
    "- **Diverse relational types**, showing how varied and expressive the original item texts are when structured as a graph — from material composition to historical usage.\n",
    "\n",
    "These examples illustrate the power of knowledge graphs in surfacing hidden patterns, symbolic detail, and gameplay-relevant information. While constrained by the dataset size and the precision of relation extraction, this method provides a scalable foundation for interactive lore exploration, semantic retrieval, and deeper engagement with narrative-rich games like *Dark Souls*."
   ]
  },
  {
   "cell_type": "markdown",
   "id": "4baf4381",
   "metadata": {},
   "source": [
    "### 3.4 Natural Language QA Interface\n",
    "\n",
    "To make the Dark Souls knowledge graph more accessible and engaging, I developed an interactive **natural-language question-answering (QA) interface** using Streamlit and OpenAI's GPT-4 model. This interface allows users to query the Neo4j graph using plain English, without needing to know Cypher or understand the graph’s internal schema.\n",
    "\n",
    "The system not only translates user questions into valid Cypher queries, but also executes those queries on the graph database and presents the results in multiple formats: **structured tables, dynamic graph visualizations**, and a **textual interpretation** of the answer.\n",
    "\n",
    "---\n",
    "\n",
    "**Key features of the QA interface:**\n",
    "\n",
    "- 🔍 **Natural-language input**: Users can freely type their questions or select from predefined suggestions.  \n",
    "- ⚙️ **LLM-to-Cypher translation**: GPT-4 translates the user's question into a Cypher query, constrained to only valid relationship types extracted from the graph.  \n",
    "- 📊 **Answer display**: The query result is shown as a clean and readable table within the app.  \n",
    "- 🌐 **Subgraph visualization**: If the result contains graph-like structure (`source`, `relation`, `target`), a dynamic PyVis network graph is generated on the fly.  \n",
    "- 🧠 **Interpretation engine**: A concise summary of the results is generated using GPT-4, offering users a narrative explanation of what the data reveals.  \n",
    "- 🧹 **Clear & reset**: The interface includes buttons to run or clear a question, preserving session state for a seamless experience.  \n",
    "\n",
    "---\n",
    "\n",
    "**User flow in the app:**\n",
    "\n",
    "1. The user either types a question or picks one from a dropdown menu.  \n",
    "2. Upon clicking **Run**, GPT-4 generates a Cypher query tailored to the graph’s structure.  \n",
    "3. The query is executed in real time on the Neo4j database.  \n",
    "4. The app displays:\n",
    "   - the generated Cypher query,  \n",
    "   - a tabular result,  \n",
    "   - a dynamic graph (if applicable),  \n",
    "   - and an interpretation of the answer.  \n",
    "5. The user can clear the input at any time and start again.  \n",
    "\n",
    "---\n",
    "\n",
    "This interface demonstrates how **LLMs can bridge the gap between unstructured natural language and structured graph data**, making the exploration of complex knowledge graphs more natural, visual, and insightful—even for users with no technical background.\n"
   ]
  },
  {
   "cell_type": "markdown",
   "id": "73cc1074",
   "metadata": {},
   "source": [
    "### 3.4.1 Extracting Available Relationship Types\n",
    "\n",
    "To improve the reliability of the natural-language QA interface, I decided to constrain the Cypher queries generated by the LLM to use only the relationship types that actually exist in the graph. This ensures that GPT-generated queries are always syntactically and semantically compatible with the structure of my knowledge graph.\n",
    "\n",
    "This step was necessary because, previously, the model would sometimes reference nonexistent relationship types such as `related_to`, which returned no results.\n",
    "\n",
    "I extracted the relationship types directly from the Neo4j database using a Cypher query and saved them as a Python list of strings. This list is now included directly in the `app.py` script, so the LLM can dynamically receive it as part of the prompt."
   ]
  },
  {
   "cell_type": "code",
   "execution_count": 6,
   "id": "75ef19bd",
   "metadata": {},
   "outputs": [
    {
     "name": "stdout",
     "output_type": "stream",
     "text": [
      "Available relationship types:\n"
     ]
    },
    {
     "data": {
      "text/html": [
       "<div>\n",
       "<style scoped>\n",
       "    .dataframe tbody tr th:only-of-type {\n",
       "        vertical-align: middle;\n",
       "    }\n",
       "\n",
       "    .dataframe tbody tr th {\n",
       "        vertical-align: top;\n",
       "    }\n",
       "\n",
       "    .dataframe thead th {\n",
       "        text-align: right;\n",
       "    }\n",
       "</style>\n",
       "<table border=\"1\" class=\"dataframe\">\n",
       "  <thead>\n",
       "    <tr style=\"text-align: right;\">\n",
       "      <th></th>\n",
       "      <th>relation</th>\n",
       "    </tr>\n",
       "  </thead>\n",
       "  <tbody>\n",
       "    <tr>\n",
       "      <th>0</th>\n",
       "      <td>allow</td>\n",
       "    </tr>\n",
       "    <tr>\n",
       "      <th>1</th>\n",
       "      <td>allows</td>\n",
       "    </tr>\n",
       "    <tr>\n",
       "      <th>2</th>\n",
       "      <td>alters</td>\n",
       "    </tr>\n",
       "    <tr>\n",
       "      <th>3</th>\n",
       "      <td>are</td>\n",
       "    </tr>\n",
       "    <tr>\n",
       "      <th>4</th>\n",
       "      <td>are_compromised_against</td>\n",
       "    </tr>\n",
       "    <tr>\n",
       "      <th>...</th>\n",
       "      <td>...</td>\n",
       "    </tr>\n",
       "    <tr>\n",
       "      <th>169</th>\n",
       "      <td>were_subject_to</td>\n",
       "    </tr>\n",
       "    <tr>\n",
       "      <th>170</th>\n",
       "      <td>wield</td>\n",
       "    </tr>\n",
       "    <tr>\n",
       "      <th>171</th>\n",
       "      <td>wielded</td>\n",
       "    </tr>\n",
       "    <tr>\n",
       "      <th>172</th>\n",
       "      <td>wielded_by</td>\n",
       "    </tr>\n",
       "    <tr>\n",
       "      <th>173</th>\n",
       "      <td>works</td>\n",
       "    </tr>\n",
       "  </tbody>\n",
       "</table>\n",
       "<p>174 rows × 1 columns</p>\n",
       "</div>"
      ],
      "text/plain": [
       "                    relation\n",
       "0                      allow\n",
       "1                     allows\n",
       "2                     alters\n",
       "3                        are\n",
       "4    are_compromised_against\n",
       "..                       ...\n",
       "169          were_subject_to\n",
       "170                    wield\n",
       "171                  wielded\n",
       "172               wielded_by\n",
       "173                    works\n",
       "\n",
       "[174 rows x 1 columns]"
      ]
     },
     "metadata": {},
     "output_type": "display_data"
    },
    {
     "name": "stdout",
     "output_type": "stream",
     "text": [
      "✅ Saved to relationship_types.py\n"
     ]
    }
   ],
   "source": [
    "# Query to get all relationship types present in the database\n",
    "query = \"\"\"\n",
    "MATCH ()-[r]->()\n",
    "RETURN DISTINCT type(r) AS relation\n",
    "ORDER BY relation\n",
    "\"\"\"\n",
    "\n",
    "with driver.session() as session:\n",
    "    result = session.run(query)\n",
    "    relation_types = pd.DataFrame([record.data() for record in result])\n",
    "\n",
    "# Display available relationship types\n",
    "print(\"Available relationship types:\")\n",
    "display(relation_types)\n",
    "\n",
    "# Convert to list of strings for app use\n",
    "relationship_list = relation_types[\"relation\"].dropna().unique().tolist()\n",
    "\n",
    "# Save as a Python file to import in app.py\n",
    "with open(\"relationship_types.py\", \"w\") as f:\n",
    "    f.write(\"# Auto-generated list of relationship types for LLM prompt context\\n\")\n",
    "    f.write(\"RELATIONSHIP_TYPES = [\\n\")\n",
    "    for rel in relationship_list:\n",
    "        f.write(f\"    '{rel}',\\n\")\n",
    "    f.write(\"]\\n\")\n",
    "\n",
    "print(\"✅ Saved to relationship_types.py\")"
   ]
  },
  {
   "cell_type": "markdown",
   "id": "88db4438",
   "metadata": {},
   "source": [
    "### 3.4.2 Extracting Available Relationship Types\n",
    "\n",
    "During the development of the natural-language QA interface, one of the key challenges was ensuring that the Cypher queries generated by the LLM (GPT-4) were **syntactically valid and aligned with the structure of the knowledge graph**. The graph uses a restricted schema where relationships between entities are labeled with specific types such as `wield`, `is_effective_against`, `belongs_to`, etc. However, by default, an LLM may invent or guess relation types (e.g., `wielded_by`, `related_to`) that do not exist in the dataset—leading to runtime errors or empty query results.\n",
    "\n",
    "To mitigate this, I extracted the full list of relationship types from the graph and injected it directly into the LLM’s prompt as a constraint. This significantly improved query accuracy, but **some issues persisted**, especially when dealing with ambiguous user inputs or variations in phrasing. Queries would occasionally reference slightly incorrect or non-existent relationships, or include issues like undefined variables (e.g., using `type(r)` without declaring `r`), or filters that were too strict to match any node (e.g., `MATCH (a {id: \"X\"})` instead of a more lenient `CONTAINS` match).\n",
    "\n",
    "---\n",
    "\n",
    "#### Fixing unstable results for core questions\n",
    "\n",
    "To stabilize the behavior and reduce API costs, I implemented a hybrid approach:\n",
    "\n",
    "- **Five core questions** identified during exploration were manually associated with pre-validated Cypher queries, based on the exact patterns tested in the notebook.\n",
    "- I also wrote **fixed interpretations** for each of these five questions, inspired by the LLM output style but grounded in the actual graph data.\n",
    "- These queries and interpretations are now hardcoded into the app. When a user selects or types one of the five core questions, **no LLM call is made**—the system skips directly to execution and rendering.\n",
    "\n",
    "This change eliminated instability and runtime costs for the most frequent queries, while still allowing full flexibility and LLM assistance for open-ended questions.\n",
    "\n",
    "---\n",
    "\n",
    "#### Future improvements\n",
    "\n",
    "Despite these fixes, there is room for further enhancement:\n",
    "\n",
    "- **Training the LLM on query examples**: Fine-tuning a small model or few-shot prompt with many valid question-query pairs could improve open question performance.\n",
    "- **Intelligent fallback mechanisms**: Before executing a query, the app could test if it returns any results and automatically suggest relaxed filters (e.g., switching from `id =` to `CONTAINS`).\n",
    "- **Semantic query repair**: If a relationship is invalid, the system could suggest the closest valid alternative using fuzzy matching or graph schema inspection.\n",
    "- **Debug feedback for users**: Expose more information about query failures to help users rephrase their question more effectively.\n",
    "\n",
    "This section of the project highlights the **practical tension between flexibility and reliability** when integrating LLMs with structured data systems—and the value of hybrid solutions for production stability.\n"
   ]
  }
 ],
 "metadata": {
  "kernelspec": {
   "display_name": "lewagon",
   "language": "python",
   "name": "python3"
  },
  "language_info": {
   "codemirror_mode": {
    "name": "ipython",
    "version": 3
   },
   "file_extension": ".py",
   "mimetype": "text/x-python",
   "name": "python",
   "nbconvert_exporter": "python",
   "pygments_lexer": "ipython3",
   "version": "3.10.6"
  }
 },
 "nbformat": 4,
 "nbformat_minor": 5
}
